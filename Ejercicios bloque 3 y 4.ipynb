{
 "cells": [
  {
   "cell_type": "code",
   "execution_count": 2,
   "metadata": {
    "collapsed": false
   },
   "outputs": [
    {
     "data": {
      "text/plain": [
       "array([ -8,   6,  -4,  -5,   4,  -8,   7,   1, -10,   9,  -3,  -8,   5,\n",
       "         4,  -1,   1,  -5,   7,   9,   6,  -1,   3,  -2,  -7,   8,   3,\n",
       "         9,  -9,   9,   3,   3, -10,   9,  -4,  -6])"
      ]
     },
     "execution_count": 2,
     "metadata": {},
     "output_type": "execute_result"
    }
   ],
   "source": [
    "#######Ejercicio 1#####################\n",
    "#Crea un array de 35 enteros aleatorios entre -10 y 10.\n",
    "import numpy as np\n",
    "a=np.random.randint(-10, 10, 35)\n",
    "a"
   ]
  },
  {
   "cell_type": "code",
   "execution_count": 3,
   "metadata": {
    "collapsed": false
   },
   "outputs": [
    {
     "data": {
      "text/plain": [
       "matrix([[  1,  -3,  -5,  -9,  -3,  -9,   5],\n",
       "        [  6,  -8,  -3,   7,  -1,   1,  -2],\n",
       "        [  8,   7,   7,   1,  -7,   2,   1],\n",
       "        [  1, -10,   8,  -3,  -1, -10,   3],\n",
       "        [  2,  -7,   1,  -8,  -2,   8,   4]])"
      ]
     },
     "execution_count": 3,
     "metadata": {},
     "output_type": "execute_result"
    }
   ],
   "source": [
    "#Redimensiónalo como matriz de 5x7\n",
    "from numpy import matrix # Importamos matrix del módulo numpy.\n",
    "m= np.matrix(np.random.randint(-10, 10, 35).reshape((5,7)))\n",
    "m"
   ]
  },
  {
   "cell_type": "code",
   "execution_count": 4,
   "metadata": {
    "collapsed": false
   },
   "outputs": [
    {
     "data": {
      "text/plain": [
       "matrix([[ True, False, False, False, False, False,  True],\n",
       "        [ True, False, False,  True, False,  True, False],\n",
       "        [ True,  True,  True,  True, False,  True,  True],\n",
       "        [ True, False,  True, False, False, False,  True],\n",
       "        [ True, False,  True, False, False,  True,  True]], dtype=bool)"
      ]
     },
     "execution_count": 4,
     "metadata": {},
     "output_type": "execute_result"
    }
   ],
   "source": [
    "#Obtén los números positivos de esa matriz utilizando boolean indexing.\n",
    "m>0"
   ]
  },
  {
   "cell_type": "code",
   "execution_count": 11,
   "metadata": {
    "collapsed": false
   },
   "outputs": [
    {
     "name": "stdout",
     "output_type": "stream",
     "text": [
      "[-10  -9  -8  -7  -5  -3  -2  -1   1   2   3   4   5   6   7   8]\n"
     ]
    }
   ],
   "source": [
    "#Obtén con una función los datos no duplicados.\n",
    "nodupli=np.unique(np.array(m))\n",
    "print(nodupli)"
   ]
  },
  {
   "cell_type": "code",
   "execution_count": 15,
   "metadata": {
    "collapsed": false
   },
   "outputs": [
    {
     "name": "stdout",
     "output_type": "stream",
     "text": [
      "-0.5625\n"
     ]
    }
   ],
   "source": [
    "# Sobre los datos no duplicados, obtén la media.\n",
    "medianodupli = nodupli.mean()\n",
    "print(medianodupli)"
   ]
  },
  {
   "cell_type": "code",
   "execution_count": 25,
   "metadata": {
    "collapsed": false
   },
   "outputs": [],
   "source": [
    "####Ejercicio 2##################\n",
    "#Crea dos arrays de 100 elementos con números aleatorios de distribuciones diferentes, pero en un rango de valores similar.\n",
    "uno=np.random.gamma(0.25,0.3,100)\n",
    "dos=np.random.exponential(0.7,100)\n"
   ]
  },
  {
   "cell_type": "code",
   "execution_count": 42,
   "metadata": {
    "collapsed": false
   },
   "outputs": [
    {
     "data": {
      "text/plain": [
       "(array([ 51.,  24.,  13.,   4.,   6.,   0.,   0.,   0.,   0.,   2.]),\n",
       " array([ 0.00713721,  0.42255155,  0.83796589,  1.25338023,  1.66879457,\n",
       "         2.08420891,  2.49962325,  2.91503759,  3.33045193,  3.74586626,\n",
       "         4.1612806 ]),\n",
       " <a list of 1 Patch objects>)"
      ]
     },
     "execution_count": 42,
     "metadata": {},
     "output_type": "execute_result"
    },
    {
     "data": {
      "image/png": "[encoded data removed]",
      "text/plain": [
       "<matplotlib.figure.Figure at 0x1dbe9170eb8>"
      ]
     },
     "metadata": {},
     "output_type": "display_data"
    }
   ],
   "source": [
    "#Dibuja sus histogramas y compáralos.\n",
    "import matplotlib.pyplot as plt\n",
    "%matplotlib inline\n",
    "plt.hist(uno,histtype='stepfilled')\n",
    "plt.hist(dos,histtype='stepfilled')"
   ]
  },
  {
   "cell_type": "code",
   "execution_count": 45,
   "metadata": {
    "collapsed": true
   },
   "outputs": [],
   "source": [
    "#Busca en scypy.stats una función para hacer una comprobación (mediante un t-test) \n",
    "#de si la media de los elementos en los dos arrays es diferente.\n"
   ]
  },
  {
   "cell_type": "code",
   "execution_count": 46,
   "metadata": {
    "collapsed": false
   },
   "outputs": [
    {
     "data": {
      "image/png": "[encoded data removed]",
      "text/plain": [
       "<matplotlib.figure.Figure at 0x1dbe7735a58>"
      ]
     },
     "metadata": {},
     "output_type": "display_data"
    }
   ],
   "source": [
    "######Ejercicio 3###################\n",
    "#Genera un array de supuesta cotizaciones de un valor de la bolsa duante un período. Nota: Puedes simularlo con un “random walk”\n",
    "#a partir de un valor de cotización inicial.\n",
    "###Esto es lo que localice por internet, pero no llego a comprender como se realiza###\n",
    "\n",
    "import numpy as np\n",
    "from numpy import convolve\n",
    "import matplotlib.pyplot as plt\n",
    " \n",
    "def movingaverage (values, window):\n",
    "    weights = np.repeat(1.0, window)/window\n",
    "    sma = np.convolve(values, weights, 'valid')\n",
    "    return sma\n",
    " \n",
    "x = [1,2,3,4,5,6,7,8,9,10]\n",
    "y = [3,5,2,4,9,1,7,5,9,1]\n",
    " \n",
    "yMA = movingaverage(y,3)\n",
    "#print yMA\n",
    " \n",
    "plt.plot(x[len(x)-len(yMA):],yMA)\n",
    "plt.show()\n",
    "\n",
    "#Referencia:https://gordoncluster.wordpress.com/2014/02/13/python-numpy-how-to-generate-moving-averages-efficiently-part-2/"
   ]
  }
 ],
 "metadata": {
  "anaconda-cloud": {},
  "kernelspec": {
   "display_name": "Python [conda root]",
   "language": "python",
   "name": "conda-root-py"
  },
  "language_info": {
   "codemirror_mode": {
    "name": "ipython",
    "version": 3
   },
   "file_extension": ".py",
   "mimetype": "text/x-python",
   "name": "python",
   "nbconvert_exporter": "python",
   "pygments_lexer": "ipython3",
   "version": "3.5.2"
  }
 },
 "nbformat": 4,
 "nbformat_minor": 1
}
